{
 "cells": [
  {
   "cell_type": "markdown",
   "metadata": {},
   "source": [
    "Cities and their Rainiest months"
   ]
  },
  {
   "cell_type": "code",
   "execution_count": null,
   "metadata": {},
   "outputs": [
    {
     "name": "stdout",
     "output_type": "stream",
     "text": [
      "         city        lat         lon month  monthnum  sunshine  rain\n",
      "0   San Diego  32.715736 -117.161087   Jan         1       217  1.53\n",
      "1   San Diego  32.715736 -117.161087   Feb         2       255  0.15\n",
      "2   San Diego  32.715736 -117.161087   Mar         3       234  0.57\n",
      "3   San Diego  32.715736 -117.161087   Apr         4       236  1.01\n",
      "4   San Diego  32.715736 -117.161087   May         5       277  0.02\n",
      "..        ...        ...         ...   ...       ...       ...   ...\n",
      "67      Miami  25.761681  -80.191788   Aug         8       263  8.88\n",
      "68      Miami  25.761681  -80.191788   Sep         9       216  9.86\n",
      "69      Miami  25.761681  -80.191788   Oct        10       215  6.33\n",
      "70      Miami  25.761681  -80.191788   Nov        11       212  3.27\n",
      "71      Miami  25.761681  -80.191788   Dec        12       209  2.04\n",
      "\n",
      "[72 rows x 7 columns]\n"
     ]
    }
   ],
   "source": [
    "import pandas as pd\n",
    "import altair as alt\n",
    "import plotly as pl\n",
    "from vega_datasets import data\n",
    "wth = pd.read_csv('weather.csv')ss\n",
    "print(wth)"
   ]
  },
  {
   "cell_type": "code",
   "execution_count": 2,
   "metadata": {},
   "outputs": [
    {
     "name": "stdout",
     "output_type": "stream",
     "text": [
      "             city        lat         lon month  monthnum  sunshine  rain\n",
      "29        Chicago  41.878113  -87.629799   Jun         6       300  4.06\n",
      "41        Houston  29.760427  -95.369804   Jun         6       282  5.91\n",
      "68          Miami  25.761681  -80.191788   Sep         9       216  9.86\n",
      "54  New York City  40.712776  -74.005974   Jul         7       302  4.53\n",
      "10      San Diego  32.715736 -117.161087   Nov        11       212  2.27\n",
      "23  San Francisco  37.774929 -122.419418   Dec        12       156  4.56\n"
     ]
    }
   ],
   "source": [
    "max_rainfall = wth.loc[wth.groupby('city')['rain'].idxmax()]\n",
    "\n",
    "print(max_rainfall)"
   ]
  },
  {
   "cell_type": "code",
   "execution_count": 3,
   "metadata": {},
   "outputs": [
    {
     "data": {
      "text/html": [
       "\n",
       "<style>\n",
       "  #altair-viz-30678710f1e8480b9806fdbe42378215.vega-embed {\n",
       "    width: 100%;\n",
       "    display: flex;\n",
       "  }\n",
       "\n",
       "  #altair-viz-30678710f1e8480b9806fdbe42378215.vega-embed details,\n",
       "  #altair-viz-30678710f1e8480b9806fdbe42378215.vega-embed details summary {\n",
       "    position: relative;\n",
       "  }\n",
       "</style>\n",
       "<div id=\"altair-viz-30678710f1e8480b9806fdbe42378215\"></div>\n",
       "<script type=\"text/javascript\">\n",
       "  var VEGA_DEBUG = (typeof VEGA_DEBUG == \"undefined\") ? {} : VEGA_DEBUG;\n",
       "  (function(spec, embedOpt){\n",
       "    let outputDiv = document.currentScript.previousElementSibling;\n",
       "    if (outputDiv.id !== \"altair-viz-30678710f1e8480b9806fdbe42378215\") {\n",
       "      outputDiv = document.getElementById(\"altair-viz-30678710f1e8480b9806fdbe42378215\");\n",
       "    }\n",
       "\n",
       "    const paths = {\n",
       "      \"vega\": \"https://cdn.jsdelivr.net/npm/vega@5?noext\",\n",
       "      \"vega-lib\": \"https://cdn.jsdelivr.net/npm/vega-lib?noext\",\n",
       "      \"vega-lite\": \"https://cdn.jsdelivr.net/npm/vega-lite@5.20.1?noext\",\n",
       "      \"vega-embed\": \"https://cdn.jsdelivr.net/npm/vega-embed@6?noext\",\n",
       "    };\n",
       "\n",
       "    function maybeLoadScript(lib, version) {\n",
       "      var key = `${lib.replace(\"-\", \"\")}_version`;\n",
       "      return (VEGA_DEBUG[key] == version) ?\n",
       "        Promise.resolve(paths[lib]) :\n",
       "        new Promise(function(resolve, reject) {\n",
       "          var s = document.createElement('script');\n",
       "          document.getElementsByTagName(\"head\")[0].appendChild(s);\n",
       "          s.async = true;\n",
       "          s.onload = () => {\n",
       "            VEGA_DEBUG[key] = version;\n",
       "            return resolve(paths[lib]);\n",
       "          };\n",
       "          s.onerror = () => reject(`Error loading script: ${paths[lib]}`);\n",
       "          s.src = paths[lib];\n",
       "        });\n",
       "    }\n",
       "\n",
       "    function showError(err) {\n",
       "      outputDiv.innerHTML = `<div class=\"error\" style=\"color:red;\">${err}</div>`;\n",
       "      throw err;\n",
       "    }\n",
       "\n",
       "    function displayChart(vegaEmbed) {\n",
       "      vegaEmbed(outputDiv, spec, embedOpt)\n",
       "        .catch(err => showError(`Javascript Error: ${err.message}<br>This usually means there's a typo in your chart specification. See the javascript console for the full traceback.`));\n",
       "    }\n",
       "\n",
       "    if(typeof define === \"function\" && define.amd) {\n",
       "      requirejs.config({paths});\n",
       "      let deps = [\"vega-embed\"];\n",
       "      require(deps, displayChart, err => showError(`Error loading script: ${err.message}`));\n",
       "    } else {\n",
       "      maybeLoadScript(\"vega\", \"5\")\n",
       "        .then(() => maybeLoadScript(\"vega-lite\", \"5.20.1\"))\n",
       "        .then(() => maybeLoadScript(\"vega-embed\", \"6\"))\n",
       "        .catch(showError)\n",
       "        .then(() => displayChart(vegaEmbed));\n",
       "    }\n",
       "  })({\"config\": {\"view\": {\"continuousWidth\": 300, \"continuousHeight\": 300}}, \"layer\": [{\"data\": {\"url\": \"https://cdn.jsdelivr.net/npm/vega-datasets@v1.29.0/data/us-10m.json\", \"format\": {\"feature\": \"states\", \"type\": \"topojson\"}}, \"mark\": {\"type\": \"geoshape\", \"fill\": \"lightgray\", \"stroke\": \"white\"}, \"projection\": {\"type\": \"albersUsa\"}}, {\"data\": {\"name\": \"data-44e86ad4bca5c46204bc92313fd4d58f\"}, \"mark\": {\"type\": \"circle\"}, \"encoding\": {\"latitude\": {\"field\": \"lat\", \"type\": \"quantitative\"}, \"longitude\": {\"field\": \"lon\", \"type\": \"quantitative\"}, \"size\": {\"field\": \"rain\", \"legend\": {\"title\": \"Rainfall\"}, \"scale\": {\"range\": [30, 900]}, \"type\": \"quantitative\"}, \"tooltip\": [{\"field\": \"city\", \"type\": \"nominal\"}, {\"field\": \"rain\", \"type\": \"quantitative\"}, {\"field\": \"month\", \"type\": \"nominal\"}]}, \"title\": \"City Map with Rainfall\"}], \"height\": 300, \"width\": 500, \"$schema\": \"https://vega.github.io/schema/vega-lite/v5.20.1.json\", \"datasets\": {\"data-44e86ad4bca5c46204bc92313fd4d58f\": [{\"city\": \"Chicago\", \"lat\": 41.878113, \"lon\": -87.629799, \"month\": \"Jun\", \"monthnum\": 6, \"sunshine\": 300, \"rain\": 4.06}, {\"city\": \"Houston\", \"lat\": 29.760427, \"lon\": -95.369804, \"month\": \"Jun\", \"monthnum\": 6, \"sunshine\": 282, \"rain\": 5.91}, {\"city\": \"Miami\", \"lat\": 25.761681, \"lon\": -80.191788, \"month\": \"Sep\", \"monthnum\": 9, \"sunshine\": 216, \"rain\": 9.86}, {\"city\": \"New York City\", \"lat\": 40.712776, \"lon\": -74.005974, \"month\": \"Jul\", \"monthnum\": 7, \"sunshine\": 302, \"rain\": 4.53}, {\"city\": \"San Diego\", \"lat\": 32.715736, \"lon\": -117.161087, \"month\": \"Nov\", \"monthnum\": 11, \"sunshine\": 212, \"rain\": 2.27}, {\"city\": \"San Francisco\", \"lat\": 37.774929, \"lon\": -122.419418, \"month\": \"Dec\", \"monthnum\": 12, \"sunshine\": 156, \"rain\": 4.56}]}}, {\"mode\": \"vega-lite\"});\n",
       "</script>"
      ],
      "text/plain": [
       "alt.LayerChart(...)"
      ]
     },
     "execution_count": 3,
     "metadata": {},
     "output_type": "execute_result"
    }
   ],
   "source": [
    "states = alt.topo_feature(data.us_10m.url, feature='states')\n",
    "\n",
    "background = alt.Chart(states).mark_geoshape(\n",
    "    fill='lightgray',\n",
    "    stroke='white'\n",
    ").project('albersUsa').properties(\n",
    "    width=500,\n",
    "    height=300\n",
    ")\n",
    "chart = alt.Chart(max_rainfall).mark_circle().encode(\n",
    "    longitude='lon:Q',\n",
    "    latitude='lat:Q',\n",
    "    size=alt.Size('rain:Q', scale=alt.Scale(range=[30, 900]), legend=alt.Legend(title=\"Rainfall\")),\n",
    "    tooltip=['city:N', 'rain:Q', 'month']\n",
    ").properties(\n",
    "    title=\"City Map with Rainfall\"\n",
    ")\n",
    "background + chart\n"
   ]
  },
  {
   "cell_type": "code",
   "execution_count": 5,
   "metadata": {},
   "outputs": [
    {
     "data": {
      "text/plain": [
       "<Axes: xlabel='city'>"
      ]
     },
     "execution_count": 5,
     "metadata": {},
     "output_type": "execute_result"
    },
    {
     "data": {
      "image/png": "[encoded data removed]",
      "text/plain": [
       "<Figure size 640x480 with 1 Axes>"
      ]
     },
     "metadata": {},
     "output_type": "display_data"
    }
   ],
   "source": [
    "bar_chart = max_rainfall.plot.bar(x='city', y='rain')\n",
    "bar_chart"
   ]
  },
  {
   "cell_type": "code",
   "execution_count": 9,
   "metadata": {},
   "outputs": [
    {
     "data": {
      "text/html": [
       "\n",
       "<style>\n",
       "  #altair-viz-8c1685d3ce434207b46386cd9af34897.vega-embed {\n",
       "    width: 100%;\n",
       "    display: flex;\n",
       "  }\n",
       "\n",
       "  #altair-viz-8c1685d3ce434207b46386cd9af34897.vega-embed details,\n",
       "  #altair-viz-8c1685d3ce434207b46386cd9af34897.vega-embed details summary {\n",
       "    position: relative;\n",
       "  }\n",
       "</style>\n",
       "<div id=\"altair-viz-8c1685d3ce434207b46386cd9af34897\"></div>\n",
       "<script type=\"text/javascript\">\n",
       "  var VEGA_DEBUG = (typeof VEGA_DEBUG == \"undefined\") ? {} : VEGA_DEBUG;\n",
       "  (function(spec, embedOpt){\n",
       "    let outputDiv = document.currentScript.previousElementSibling;\n",
       "    if (outputDiv.id !== \"altair-viz-8c1685d3ce434207b46386cd9af34897\") {\n",
       "      outputDiv = document.getElementById(\"altair-viz-8c1685d3ce434207b46386cd9af34897\");\n",
       "    }\n",
       "\n",
       "    const paths = {\n",
       "      \"vega\": \"https://cdn.jsdelivr.net/npm/vega@5?noext\",\n",
       "      \"vega-lib\": \"https://cdn.jsdelivr.net/npm/vega-lib?noext\",\n",
       "      \"vega-lite\": \"https://cdn.jsdelivr.net/npm/vega-lite@5.20.1?noext\",\n",
       "      \"vega-embed\": \"https://cdn.jsdelivr.net/npm/vega-embed@6?noext\",\n",
       "    };\n",
       "\n",
       "    function maybeLoadScript(lib, version) {\n",
       "      var key = `${lib.replace(\"-\", \"\")}_version`;\n",
       "      return (VEGA_DEBUG[key] == version) ?\n",
       "        Promise.resolve(paths[lib]) :\n",
       "        new Promise(function(resolve, reject) {\n",
       "          var s = document.createElement('script');\n",
       "          document.getElementsByTagName(\"head\")[0].appendChild(s);\n",
       "          s.async = true;\n",
       "          s.onload = () => {\n",
       "            VEGA_DEBUG[key] = version;\n",
       "            return resolve(paths[lib]);\n",
       "          };\n",
       "          s.onerror = () => reject(`Error loading script: ${paths[lib]}`);\n",
       "          s.src = paths[lib];\n",
       "        });\n",
       "    }\n",
       "\n",
       "    function showError(err) {\n",
       "      outputDiv.innerHTML = `<div class=\"error\" style=\"color:red;\">${err}</div>`;\n",
       "      throw err;\n",
       "    }\n",
       "\n",
       "    function displayChart(vegaEmbed) {\n",
       "      vegaEmbed(outputDiv, spec, embedOpt)\n",
       "        .catch(err => showError(`Javascript Error: ${err.message}<br>This usually means there's a typo in your chart specification. See the javascript console for the full traceback.`));\n",
       "    }\n",
       "\n",
       "    if(typeof define === \"function\" && define.amd) {\n",
       "      requirejs.config({paths});\n",
       "      let deps = [\"vega-embed\"];\n",
       "      require(deps, displayChart, err => showError(`Error loading script: ${err.message}`));\n",
       "    } else {\n",
       "      maybeLoadScript(\"vega\", \"5\")\n",
       "        .then(() => maybeLoadScript(\"vega-lite\", \"5.20.1\"))\n",
       "        .then(() => maybeLoadScript(\"vega-embed\", \"6\"))\n",
       "        .catch(showError)\n",
       "        .then(() => displayChart(vegaEmbed));\n",
       "    }\n",
       "  })({\"config\": {\"view\": {\"continuousWidth\": 300, \"continuousHeight\": 300}}, \"data\": {\"name\": \"data-f1d20e1aaeda38130cfc058c0e394118\"}, \"mark\": {\"type\": \"circle\"}, \"encoding\": {\"size\": {\"field\": \"rain\", \"legend\": {\"title\": \"Rainfall (mm)\"}, \"scale\": {\"range\": [10, 500]}, \"type\": \"quantitative\"}, \"tooltip\": [{\"field\": \"city\", \"type\": \"nominal\"}, {\"field\": \"month\", \"type\": \"nominal\"}, {\"field\": \"rain\", \"type\": \"quantitative\"}], \"x\": {\"field\": \"month\", \"type\": \"nominal\"}, \"y\": {\"field\": \"city\", \"type\": \"nominal\"}}, \"title\": \"Cities with Rainfall Average per Month\", \"$schema\": \"https://vega.github.io/schema/vega-lite/v5.20.1.json\", \"datasets\": {\"data-f1d20e1aaeda38130cfc058c0e394118\": [{\"city\": \"San Diego\", \"lat\": 32.715736, \"lon\": -117.161087, \"month\": \"Jan\", \"monthnum\": 1, \"sunshine\": 217, \"rain\": 1.53}, {\"city\": \"San Diego\", \"lat\": 32.715736, \"lon\": -117.161087, \"month\": \"Feb\", \"monthnum\": 2, \"sunshine\": 255, \"rain\": 0.15}, {\"city\": \"San Diego\", \"lat\": 32.715736, \"lon\": -117.161087, \"month\": \"Mar\", \"monthnum\": 3, \"sunshine\": 234, \"rain\": 0.57}, {\"city\": \"San Diego\", \"lat\": 32.715736, \"lon\": -117.161087, \"month\": \"Apr\", \"monthnum\": 4, \"sunshine\": 236, \"rain\": 1.01}, {\"city\": \"San Diego\", \"lat\": 32.715736, \"lon\": -117.161087, \"month\": \"May\", \"monthnum\": 5, \"sunshine\": 277, \"rain\": 0.02}, {\"city\": \"San Diego\", \"lat\": 32.715736, \"lon\": -117.161087, \"month\": \"Jun\", \"monthnum\": 6, \"sunshine\": 293, \"rain\": 0.03}, {\"city\": \"San Diego\", \"lat\": 32.715736, \"lon\": -117.161087, \"month\": \"Jul\", \"monthnum\": 7, \"sunshine\": 253, \"rain\": 0.07}, {\"city\": \"San Diego\", \"lat\": 32.715736, \"lon\": -117.161087, \"month\": \"Aug\", \"monthnum\": 8, \"sunshine\": 261, \"rain\": 0.12}, {\"city\": \"San Diego\", \"lat\": 32.715736, \"lon\": -117.161087, \"month\": \"Sep\", \"monthnum\": 9, \"sunshine\": 242, \"rain\": 0.78}, {\"city\": \"San Diego\", \"lat\": 32.715736, \"lon\": -117.161087, \"month\": \"Oct\", \"monthnum\": 10, \"sunshine\": 262, \"rain\": 1.81}, {\"city\": \"San Diego\", \"lat\": 32.715736, \"lon\": -117.161087, \"month\": \"Nov\", \"monthnum\": 11, \"sunshine\": 212, \"rain\": 2.27}, {\"city\": \"San Diego\", \"lat\": 32.715736, \"lon\": -117.161087, \"month\": \"Dec\", \"monthnum\": 12, \"sunshine\": 216, \"rain\": 1.98}, {\"city\": \"San Francisco\", \"lat\": 37.774929, \"lon\": -122.419418, \"month\": \"Jan\", \"monthnum\": 1, \"sunshine\": 330, \"rain\": 0.16}, {\"city\": \"San Francisco\", \"lat\": 37.774929, \"lon\": -122.419418, \"month\": \"Feb\", \"monthnum\": 2, \"sunshine\": 300, \"rain\": 0.01}, {\"city\": \"San Francisco\", \"lat\": 37.774929, \"lon\": -122.419418, \"month\": \"Mar\", \"monthnum\": 3, \"sunshine\": 314, \"rain\": 0.7}, {\"city\": \"San Francisco\", \"lat\": 37.774929, \"lon\": -122.419418, \"month\": \"Apr\", \"monthnum\": 4, \"sunshine\": 281, \"rain\": 1.46}, {\"city\": \"San Francisco\", \"lat\": 37.774929, \"lon\": -122.419418, \"month\": \"May\", \"monthnum\": 5, \"sunshine\": 251, \"rain\": 3.26}, {\"city\": \"San Francisco\", \"lat\": 37.774929, \"lon\": -122.419418, \"month\": \"Jun\", \"monthnum\": 6, \"sunshine\": 182, \"rain\": 4.46}, {\"city\": \"San Francisco\", \"lat\": 37.774929, \"lon\": -122.419418, \"month\": \"Jul\", \"monthnum\": 7, \"sunshine\": 165, \"rain\": 4.5}, {\"city\": \"San Francisco\", \"lat\": 37.774929, \"lon\": -122.419418, \"month\": \"Aug\", \"monthnum\": 8, \"sunshine\": 272, \"rain\": 0.06}, {\"city\": \"San Francisco\", \"lat\": 37.774929, \"lon\": -122.419418, \"month\": \"Sep\", \"monthnum\": 9, \"sunshine\": 267, \"rain\": 0.21}, {\"city\": \"San Francisco\", \"lat\": 37.774929, \"lon\": -122.419418, \"month\": \"Oct\", \"monthnum\": 10, \"sunshine\": 243, \"rain\": 1.12}, {\"city\": \"San Francisco\", \"lat\": 37.774929, \"lon\": -122.419418, \"month\": \"Nov\", \"monthnum\": 11, \"sunshine\": 189, \"rain\": 3.16}, {\"city\": \"San Francisco\", \"lat\": 37.774929, \"lon\": -122.419418, \"month\": \"Dec\", \"monthnum\": 12, \"sunshine\": 156, \"rain\": 4.56}, {\"city\": \"Chicago\", \"lat\": 41.878113, \"lon\": -87.629799, \"month\": \"Jan\", \"monthnum\": 1, \"sunshine\": 126, \"rain\": 1.85}, {\"city\": \"Chicago\", \"lat\": 41.878113, \"lon\": -87.629799, \"month\": \"Feb\", \"monthnum\": 2, \"sunshine\": 142, \"rain\": 1.61}, {\"city\": \"Chicago\", \"lat\": 41.878113, \"lon\": -87.629799, \"month\": \"Mar\", \"monthnum\": 3, \"sunshine\": 199, \"rain\": 2.76}, {\"city\": \"Chicago\", \"lat\": 41.878113, \"lon\": -87.629799, \"month\": \"Apr\", \"monthnum\": 4, \"sunshine\": 221, \"rain\": 3.03}, {\"city\": \"Chicago\", \"lat\": 41.878113, \"lon\": -87.629799, \"month\": \"May\", \"monthnum\": 5, \"sunshine\": 274, \"rain\": 3.74}, {\"city\": \"Chicago\", \"lat\": 41.878113, \"lon\": -87.629799, \"month\": \"Jun\", \"monthnum\": 6, \"sunshine\": 300, \"rain\": 4.06}, {\"city\": \"Chicago\", \"lat\": 41.878113, \"lon\": -87.629799, \"month\": \"Jul\", \"monthnum\": 7, \"sunshine\": 333, \"rain\": 3.39}, {\"city\": \"Chicago\", \"lat\": 41.878113, \"lon\": -87.629799, \"month\": \"Aug\", \"monthnum\": 8, \"sunshine\": 299, \"rain\": 3.15}, {\"city\": \"Chicago\", \"lat\": 41.878113, \"lon\": -87.629799, \"month\": \"Sep\", \"monthnum\": 9, \"sunshine\": 247, \"rain\": 2.72}, {\"city\": \"Chicago\", \"lat\": 41.878113, \"lon\": -87.629799, \"month\": \"Oct\", \"monthnum\": 10, \"sunshine\": 216, \"rain\": 2.8}, {\"city\": \"Chicago\", \"lat\": 41.878113, \"lon\": -87.629799, \"month\": \"Nov\", \"monthnum\": 11, \"sunshine\": 136, \"rain\": 2.2}, {\"city\": \"Chicago\", \"lat\": 41.878113, \"lon\": -87.629799, \"month\": \"Dec\", \"monthnum\": 12, \"sunshine\": 118, \"rain\": 1.89}, {\"city\": \"Houston\", \"lat\": 29.760427, \"lon\": -95.369804, \"month\": \"Jan\", \"monthnum\": 1, \"sunshine\": 142, \"rain\": 3.35}, {\"city\": \"Houston\", \"lat\": 29.760427, \"lon\": -95.369804, \"month\": \"Feb\", \"monthnum\": 2, \"sunshine\": 155, \"rain\": 3.19}, {\"city\": \"Houston\", \"lat\": 29.760427, \"lon\": -95.369804, \"month\": \"Mar\", \"monthnum\": 3, \"sunshine\": 192, \"rain\": 3.39}, {\"city\": \"Houston\", \"lat\": 29.760427, \"lon\": -95.369804, \"month\": \"Apr\", \"monthnum\": 4, \"sunshine\": 210, \"rain\": 3.31}, {\"city\": \"Houston\", \"lat\": 29.760427, \"lon\": -95.369804, \"month\": \"May\", \"monthnum\": 5, \"sunshine\": 248, \"rain\": 5.08}, {\"city\": \"Houston\", \"lat\": 29.760427, \"lon\": -95.369804, \"month\": \"Jun\", \"monthnum\": 6, \"sunshine\": 282, \"rain\": 5.91}, {\"city\": \"Houston\", \"lat\": 29.760427, \"lon\": -95.369804, \"month\": \"Jul\", \"monthnum\": 7, \"sunshine\": 294, \"rain\": 3.78}, {\"city\": \"Houston\", \"lat\": 29.760427, \"lon\": -95.369804, \"month\": \"Aug\", \"monthnum\": 8, \"sunshine\": 269, \"rain\": 3.74}, {\"city\": \"Houston\", \"lat\": 29.760427, \"lon\": -95.369804, \"month\": \"Sep\", \"monthnum\": 9, \"sunshine\": 237, \"rain\": 4.09}, {\"city\": \"Houston\", \"lat\": 29.760427, \"lon\": -95.369804, \"month\": \"Oct\", \"monthnum\": 10, \"sunshine\": 229, \"rain\": 5.67}, {\"city\": \"Houston\", \"lat\": 29.760427, \"lon\": -95.369804, \"month\": \"Nov\", \"monthnum\": 11, \"sunshine\": 168, \"rain\": 4.33}, {\"city\": \"Houston\", \"lat\": 29.760427, \"lon\": -95.369804, \"month\": \"Dec\", \"monthnum\": 12, \"sunshine\": 148, \"rain\": 3.74}, {\"city\": \"New York City\", \"lat\": 40.712776, \"lon\": -74.005974, \"month\": \"Jan\", \"monthnum\": 1, \"sunshine\": 154, \"rain\": 3.9}, {\"city\": \"New York City\", \"lat\": 40.712776, \"lon\": -74.005974, \"month\": \"Feb\", \"monthnum\": 2, \"sunshine\": 171, \"rain\": 2.95}, {\"city\": \"New York City\", \"lat\": 40.712776, \"lon\": -74.005974, \"month\": \"Mar\", \"monthnum\": 3, \"sunshine\": 213, \"rain\": 4.06}, {\"city\": \"New York City\", \"lat\": 40.712776, \"lon\": -74.005974, \"month\": \"Apr\", \"monthnum\": 4, \"sunshine\": 237, \"rain\": 3.94}, {\"city\": \"New York City\", \"lat\": 40.712776, \"lon\": -74.005974, \"month\": \"May\", \"monthnum\": 5, \"sunshine\": 268, \"rain\": 4.45}, {\"city\": \"New York City\", \"lat\": 40.712776, \"lon\": -74.005974, \"month\": \"Jun\", \"monthnum\": 6, \"sunshine\": 289, \"rain\": 3.5}, {\"city\": \"New York City\", \"lat\": 40.712776, \"lon\": -74.005974, \"month\": \"Jul\", \"monthnum\": 7, \"sunshine\": 302, \"rain\": 4.53}, {\"city\": \"New York City\", \"lat\": 40.712776, \"lon\": -74.005974, \"month\": \"Aug\", \"monthnum\": 8, \"sunshine\": 271, \"rain\": 4.13}, {\"city\": \"New York City\", \"lat\": 40.712776, \"lon\": -74.005974, \"month\": \"Sep\", \"monthnum\": 9, \"sunshine\": 235, \"rain\": 3.98}, {\"city\": \"New York City\", \"lat\": 40.712776, \"lon\": -74.005974, \"month\": \"Oct\", \"monthnum\": 10, \"sunshine\": 213, \"rain\": 3.39}, {\"city\": \"New York City\", \"lat\": 40.712776, \"lon\": -74.005974, \"month\": \"Nov\", \"monthnum\": 11, \"sunshine\": 169, \"rain\": 3.82}, {\"city\": \"New York City\", \"lat\": 40.712776, \"lon\": -74.005974, \"month\": \"Dec\", \"monthnum\": 12, \"sunshine\": 155, \"rain\": 3.58}, {\"city\": \"Miami\", \"lat\": 25.761681, \"lon\": -80.191788, \"month\": \"Jan\", \"monthnum\": 1, \"sunshine\": 222, \"rain\": 1.62}, {\"city\": \"Miami\", \"lat\": 25.761681, \"lon\": -80.191788, \"month\": \"Feb\", \"monthnum\": 2, \"sunshine\": 227, \"rain\": 2.25}, {\"city\": \"Miami\", \"lat\": 25.761681, \"lon\": -80.191788, \"month\": \"Mar\", \"monthnum\": 3, \"sunshine\": 266, \"rain\": 3.0}, {\"city\": \"Miami\", \"lat\": 25.761681, \"lon\": -80.191788, \"month\": \"Apr\", \"monthnum\": 4, \"sunshine\": 275, \"rain\": 3.14}, {\"city\": \"Miami\", \"lat\": 25.761681, \"lon\": -80.191788, \"month\": \"May\", \"monthnum\": 5, \"sunshine\": 280, \"rain\": 5.34}, {\"city\": \"Miami\", \"lat\": 25.761681, \"lon\": -80.191788, \"month\": \"Jun\", \"monthnum\": 6, \"sunshine\": 251, \"rain\": 9.67}, {\"city\": \"Miami\", \"lat\": 25.761681, \"lon\": -80.191788, \"month\": \"Jul\", \"monthnum\": 7, \"sunshine\": 267, \"rain\": 6.5}, {\"city\": \"Miami\", \"lat\": 25.761681, \"lon\": -80.191788, \"month\": \"Aug\", \"monthnum\": 8, \"sunshine\": 263, \"rain\": 8.88}, {\"city\": \"Miami\", \"lat\": 25.761681, \"lon\": -80.191788, \"month\": \"Sep\", \"monthnum\": 9, \"sunshine\": 216, \"rain\": 9.86}, {\"city\": \"Miami\", \"lat\": 25.761681, \"lon\": -80.191788, \"month\": \"Oct\", \"monthnum\": 10, \"sunshine\": 215, \"rain\": 6.33}, {\"city\": \"Miami\", \"lat\": 25.761681, \"lon\": -80.191788, \"month\": \"Nov\", \"monthnum\": 11, \"sunshine\": 212, \"rain\": 3.27}, {\"city\": \"Miami\", \"lat\": 25.761681, \"lon\": -80.191788, \"month\": \"Dec\", \"monthnum\": 12, \"sunshine\": 209, \"rain\": 2.04}]}}, {\"mode\": \"vega-lite\"});\n",
       "</script>"
      ],
      "text/plain": [
       "alt.Chart(...)"
      ]
     },
     "metadata": {},
     "output_type": "display_data"
    }
   ],
   "source": [
    "month_city = alt.Chart(wth).mark_circle().encode(\n",
    "    x = 'month:N',\n",
    "    y = 'city:N',\n",
    "    size = alt.Size('rain:Q', scale=alt.Scale(range=[10, 500]), legend=alt.Legend(title=\"Rainfall (mm)\")),\n",
    "    tooltip=['city', 'month', 'rain']\n",
    ").properties(\n",
    "    title=\"Cities with Rainfall Average per Month\"\n",
    ")\n",
    "month_city.show()"
   ]
  },
  {
   "cell_type": "code",
   "execution_count": null,
   "metadata": {},
   "outputs": [],
   "source": []
  }
 ],
 "metadata": {
  "kernelspec": {
   "display_name": "Python 3",
   "language": "python",
   "name": "python3"
  },
  "language_info": {
   "codemirror_mode": {
    "name": "ipython",
    "version": 3
   },
   "file_extension": ".py",
   "mimetype": "text/x-python",
   "name": "python",
   "nbconvert_exporter": "python",
   "pygments_lexer": "ipython3",
   "version": "3.9.6"
  }
 },
 "nbformat": 4,
 "nbformat_minor": 2
}
